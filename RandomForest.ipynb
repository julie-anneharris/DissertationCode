{
 "cells": [
  {
   "cell_type": "code",
   "execution_count": 1,
   "metadata": {},
   "outputs": [
    {
     "name": "stdout",
     "output_type": "stream",
     "text": [
      "Requirement already satisfied: pefile in /opt/anaconda3/lib/python3.8/site-packages (2019.4.18)\n",
      "Requirement already satisfied: future in /opt/anaconda3/lib/python3.8/site-packages (from pefile) (0.18.2)\n",
      "Requirement already satisfied: pandas in /opt/anaconda3/lib/python3.8/site-packages (1.1.3)\n",
      "Requirement already satisfied: pytz>=2017.2 in /opt/anaconda3/lib/python3.8/site-packages (from pandas) (2020.1)\n",
      "Requirement already satisfied: numpy>=1.15.4 in /opt/anaconda3/lib/python3.8/site-packages (from pandas) (1.19.2)\n",
      "Requirement already satisfied: python-dateutil>=2.7.3 in /opt/anaconda3/lib/python3.8/site-packages (from pandas) (2.8.1)\n",
      "Requirement already satisfied: six>=1.5 in /opt/anaconda3/lib/python3.8/site-packages (from python-dateutil>=2.7.3->pandas) (1.15.0)\n"
     ]
    }
   ],
   "source": [
    "! pip install pefile\n",
    "! pip install pandas"
   ]
  },
  {
   "cell_type": "code",
   "execution_count": 2,
   "metadata": {},
   "outputs": [
    {
     "name": "stdout",
     "output_type": "stream",
     "text": [
      "The legitimate dataset contains: 41323 samples, 56 features\n",
      "The malware dataset contains: 96724 samples, 56 features\n"
     ]
    }
   ],
   "source": [
    "import pandas as pd\n",
    "\n",
    "malData = pd.read_csv(\"/Users/julie-anneharris/Desktop/MalwareData.csv\", sep=\"|\")\n",
    "\n",
    "legit = malData[0:41323].drop([\"legitimate\"], axis=1)\n",
    "mal = malData[41323::].drop([\"legitimate\"], axis=1)\n",
    "\n",
    "print(\"The legitimate dataset contains: %s samples, %s features\"%(legit.shape[0],legit.shape[1]))\n",
    "print(\"The malware dataset contains: %s samples, %s features\"%(mal.shape[0],mal.shape[1]))"
   ]
  },
  {
   "cell_type": "code",
   "execution_count": 3,
   "metadata": {},
   "outputs": [],
   "source": [
    "from sklearn.ensemble import ExtraTreesClassifier \n",
    "from sklearn.feature_selection import SelectFromModel\n",
    "from sklearn.model_selection import train_test_split\n",
    "from sklearn.model_selection import cross_validate"
   ]
  },
  {
   "cell_type": "code",
   "execution_count": 4,
   "metadata": {},
   "outputs": [
    {
     "name": "stdout",
     "output_type": "stream",
     "text": [
      "(138047, 54) (138047, 13)\n"
     ]
    }
   ],
   "source": [
    "data_in = malData.drop(['Name', 'md5', 'legitimate'], axis=1).values\n",
    "labels = malData['legitimate'].values\n",
    "extratrees = ExtraTreesClassifier().fit(data_in,labels)\n",
    "select = SelectFromModel(extratrees,prefit=True)\n",
    "data_in_new = select.transform(data_in)\n",
    "print(data_in.shape,data_in_new.shape)"
   ]
  },
  {
   "cell_type": "code",
   "execution_count": 5,
   "metadata": {},
   "outputs": [
    {
     "name": "stdout",
     "output_type": "stream",
     "text": [
      "1 SizeOfStackReserve 0.17929563392587905\n",
      "2 SizeOfOptionalHeader 0.10375605514795588\n",
      "3 MajorLinkerVersion 0.08849657871116152\n",
      "4 DllCharacteristics 0.06928707591477432\n",
      "5 legitimate 0.06778408026929764\n",
      "6 SectionAlignment 0.06105527123111167\n",
      "7 SectionsMeanRawsize 0.050885309060419465\n",
      "8 MinorSubsystemVersion 0.04522487253656382\n",
      "9 Characteristics 0.041566249579157916\n",
      "10 ResourcesMeanSize 0.03477149471614869\n",
      "11 ResourcesMaxEntropy 0.027005624927164473\n",
      "12 MinorOperatingSystemVersion 0.02646487588844905\n",
      "13 SectionsMaxEntropy 0.0238899470469455\n"
     ]
    }
   ],
   "source": [
    "import numpy as np\n",
    "features = data_in_new.shape[1]\n",
    "importances = extratrees.feature_importances_\n",
    "indices = np.argsort(importances)[::-1]\n",
    "\n",
    "for f in range(features):\n",
    "    print(\"%d\"%(f+1),malData.columns[3+indices[f]],importances[indices[f]])"
   ]
  },
  {
   "cell_type": "code",
   "execution_count": 6,
   "metadata": {
    "scrolled": true
   },
   "outputs": [
    {
     "data": {
      "text/plain": [
       "RandomForestClassifier(n_estimators=50)"
      ]
     },
     "execution_count": 6,
     "metadata": {},
     "output_type": "execute_result"
    }
   ],
   "source": [
    "from sklearn.ensemble import RandomForestClassifier\n",
    "legit_train, legit_test, mal_train, mal_test = train_test_split(data_in_new, labels, test_size=0.2)\n",
    "classif = RandomForestClassifier(n_estimators=50)\n",
    "\n",
    "classif.fit(legit_train,mal_train)"
   ]
  },
  {
   "cell_type": "code",
   "execution_count": 7,
   "metadata": {},
   "outputs": [
    {
     "name": "stdout",
     "output_type": "stream",
     "text": [
      "The score of the algorithm:  99.40601231437884\n"
     ]
    }
   ],
   "source": [
    "print(\"The score of the algorithm: \",classif.score(legit_test,mal_test)*100)"
   ]
  },
  {
   "cell_type": "code",
   "execution_count": 8,
   "metadata": {},
   "outputs": [],
   "source": [
    "from sklearn.metrics import confusion_matrix\n",
    "\n",
    "result = classif.predict(legit_test)\n",
    "conf_mat = confusion_matrix(mal_test,result)"
   ]
  },
  {
   "cell_type": "code",
   "execution_count": 9,
   "metadata": {},
   "outputs": [
    {
     "name": "stdout",
     "output_type": "stream",
     "text": [
      "False positives:  0.45274771024146543\n",
      "False negatives:  0.9173218965928045\n"
     ]
    }
   ],
   "source": [
    "print(\"False positives: \",conf_mat[0][1]/sum(conf_mat[0])*100)\n",
    "print(\"False negatives: \",conf_mat[1][0]/sum(conf_mat[1])*100)"
   ]
  },
  {
   "cell_type": "code",
   "execution_count": null,
   "metadata": {},
   "outputs": [],
   "source": []
  }
 ],
 "metadata": {
  "kernelspec": {
   "display_name": "Python 3",
   "language": "python",
   "name": "python3"
  },
  "language_info": {
   "codemirror_mode": {
    "name": "ipython",
    "version": 3
   },
   "file_extension": ".py",
   "mimetype": "text/x-python",
   "name": "python",
   "nbconvert_exporter": "python",
   "pygments_lexer": "ipython3",
   "version": "3.8.5"
  }
 },
 "nbformat": 4,
 "nbformat_minor": 4
}
