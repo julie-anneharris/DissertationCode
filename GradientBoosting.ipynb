{
 "cells": [
  {
   "cell_type": "code",
   "execution_count": 2,
   "metadata": {},
   "outputs": [
    {
     "name": "stdout",
     "output_type": "stream",
     "text": [
      "Requirement already satisfied: pefile in /opt/anaconda3/lib/python3.8/site-packages (2019.4.18)\n",
      "Requirement already satisfied: future in /opt/anaconda3/lib/python3.8/site-packages (from pefile) (0.18.2)\n",
      "Requirement already satisfied: pandas in /opt/anaconda3/lib/python3.8/site-packages (1.1.3)\n",
      "Requirement already satisfied: python-dateutil>=2.7.3 in /opt/anaconda3/lib/python3.8/site-packages (from pandas) (2.8.1)\n",
      "Requirement already satisfied: pytz>=2017.2 in /opt/anaconda3/lib/python3.8/site-packages (from pandas) (2020.1)\n",
      "Requirement already satisfied: numpy>=1.15.4 in /opt/anaconda3/lib/python3.8/site-packages (from pandas) (1.19.2)\n",
      "Requirement already satisfied: six>=1.5 in /opt/anaconda3/lib/python3.8/site-packages (from python-dateutil>=2.7.3->pandas) (1.15.0)\n"
     ]
    }
   ],
   "source": [
    "! pip install pefile\n",
    "! pip install pandas"
   ]
  },
  {
   "cell_type": "code",
   "execution_count": 3,
   "metadata": {},
   "outputs": [
    {
     "name": "stdout",
     "output_type": "stream",
     "text": [
      "The legitimate dataset contains: 41323 samples, 56 features\n",
      "The malware dataset contains: 96724 samples, 56 features\n"
     ]
    }
   ],
   "source": [
    "import pandas as pd\n",
    "\n",
    "malData = pd.read_csv(\"/Users/julie-anneharris/Desktop/MalwareData.csv\", sep=\"|\")\n",
    "\n",
    "legit = malData[0:41323].drop([\"legitimate\"], axis=1)\n",
    "mal = malData[41323::].drop([\"legitimate\"], axis=1)\n",
    "\n",
    "print(\"The legitimate dataset contains: %s samples, %s features\"%(legit.shape[0],legit.shape[1]))\n",
    "print(\"The malware dataset contains: %s samples, %s features\"%(mal.shape[0],mal.shape[1]))"
   ]
  },
  {
   "cell_type": "code",
   "execution_count": 4,
   "metadata": {},
   "outputs": [],
   "source": [
    "from sklearn.ensemble import ExtraTreesClassifier \n",
    "from sklearn.feature_selection import SelectFromModel\n",
    "from sklearn.model_selection import train_test_split\n",
    "from sklearn.model_selection import cross_validate"
   ]
  },
  {
   "cell_type": "code",
   "execution_count": 5,
   "metadata": {},
   "outputs": [
    {
     "name": "stdout",
     "output_type": "stream",
     "text": [
      "(138047, 54) (138047, 13)\n"
     ]
    }
   ],
   "source": [
    "data_in = malData.drop(['Name', 'md5', 'legitimate'], axis=1).values\n",
    "labels = malData['legitimate'].values\n",
    "extratrees = ExtraTreesClassifier().fit(data_in,labels)\n",
    "select = SelectFromModel(extratrees,prefit=True)\n",
    "data_in_new = select.transform(data_in)\n",
    "print(data_in.shape,data_in_new.shape)"
   ]
  },
  {
   "cell_type": "code",
   "execution_count": 6,
   "metadata": {},
   "outputs": [
    {
     "name": "stdout",
     "output_type": "stream",
     "text": [
      "1 SizeOfStackReserve 0.151455279502898\n",
      "2 SizeOfOptionalHeader 0.10516803673638675\n",
      "3 MajorLinkerVersion 0.08482457035009794\n",
      "4 SectionsMeanRawsize 0.06103374711272363\n",
      "5 DllCharacteristics 0.05896833470375248\n",
      "6 SectionAlignment 0.056437549787553505\n",
      "7 MinorSubsystemVersion 0.05626213803437774\n",
      "8 legitimate 0.054404145468217965\n",
      "9 ResourcesMaxEntropy 0.042419970695734985\n",
      "10 Characteristics 0.04184289260396536\n",
      "11 SizeOfStackCommit 0.03664481791294168\n",
      "12 ResourcesMeanSize 0.03405796337025805\n",
      "13 MinorOperatingSystemVersion 0.027391534078774118\n"
     ]
    }
   ],
   "source": [
    "import numpy as np\n",
    "features = data_in_new.shape[1]\n",
    "importances = extratrees.feature_importances_\n",
    "indices = np.argsort(importances)[::-1]\n",
    "\n",
    "for f in range(features):\n",
    "    print(\"%d\"%(f+1),malData.columns[3+indices[f]],importances[indices[f]])"
   ]
  },
  {
   "cell_type": "code",
   "execution_count": 7,
   "metadata": {
    "scrolled": true
   },
   "outputs": [
    {
     "data": {
      "text/plain": [
       "RandomForestClassifier(n_estimators=50)"
      ]
     },
     "execution_count": 7,
     "metadata": {},
     "output_type": "execute_result"
    }
   ],
   "source": [
    "from sklearn.ensemble import RandomForestClassifier\n",
    "legit_train, legit_test, mal_train, mal_test = train_test_split(data_in_new, labels, test_size=0.2)\n",
    "classif = RandomForestClassifier(n_estimators=50)\n",
    "\n",
    "classif.fit(legit_train,mal_train)"
   ]
  },
  {
   "cell_type": "code",
   "execution_count": 8,
   "metadata": {},
   "outputs": [
    {
     "name": "stdout",
     "output_type": "stream",
     "text": [
      "The score of the algorithm:  99.37341542919232\n"
     ]
    }
   ],
   "source": [
    "print(\"The score of the algorithm: \",classif.score(legit_test,mal_test)*100)"
   ]
  },
  {
   "cell_type": "code",
   "execution_count": 9,
   "metadata": {},
   "outputs": [],
   "source": [
    "from sklearn.metrics import confusion_matrix\n",
    "\n",
    "result = classif.predict(legit_test)\n",
    "conf_mat = confusion_matrix(mal_test,result)"
   ]
  },
  {
   "cell_type": "code",
   "execution_count": 10,
   "metadata": {},
   "outputs": [
    {
     "name": "stdout",
     "output_type": "stream",
     "text": [
      "False positives:  0.44034606019789674\n",
      "False negatives:  1.0593475382207778\n"
     ]
    }
   ],
   "source": [
    "print(\"False positives: \",conf_mat[0][1]/sum(conf_mat[0])*100)\n",
    "print(\"False negatives: \",conf_mat[1][0]/sum(conf_mat[1])*100)"
   ]
  },
  {
   "cell_type": "code",
   "execution_count": 11,
   "metadata": {},
   "outputs": [
    {
     "data": {
      "text/plain": [
       "GradientBoostingClassifier(n_estimators=50)"
      ]
     },
     "execution_count": 11,
     "metadata": {},
     "output_type": "execute_result"
    }
   ],
   "source": [
    "from sklearn.ensemble import GradientBoostingClassifier\n",
    "\n",
    "grad_boost = GradientBoostingClassifier(n_estimators=50)\n",
    "grad_boost.fit(legit_train,mal_train)"
   ]
  },
  {
   "cell_type": "code",
   "execution_count": 12,
   "metadata": {},
   "outputs": [
    {
     "name": "stdout",
     "output_type": "stream",
     "text": [
      "The score of the algorithm is:  98.77580586743933\n"
     ]
    }
   ],
   "source": [
    "print(\"The score of the algorithm is: \", grad_boost.score(legit_test,mal_test)*100)"
   ]
  }
 ],
 "metadata": {
  "kernelspec": {
   "display_name": "Python 3",
   "language": "python",
   "name": "python3"
  },
  "language_info": {
   "codemirror_mode": {
    "name": "ipython",
    "version": 3
   },
   "file_extension": ".py",
   "mimetype": "text/x-python",
   "name": "python",
   "nbconvert_exporter": "python",
   "pygments_lexer": "ipython3",
   "version": "3.8.5"
  }
 },
 "nbformat": 4,
 "nbformat_minor": 4
}
